{
 "cells": [
  {
   "cell_type": "markdown",
   "id": "beacbe09-6105-46b8-a762-883d4cad67d5",
   "metadata": {},
   "source": [
    "# Anomaly Detection for Failing Servers"
   ]
  },
  {
   "cell_type": "markdown",
   "id": "bfbb2607-f7db-4ea4-af3f-93b83506ce19",
   "metadata": {},
   "source": [
    "## 1 - Import Packages"
   ]
  },
  {
   "cell_type": "code",
   "execution_count": 1,
   "id": "266255d7-0e5e-49cd-89ba-14c5a1e85dd7",
   "metadata": {},
   "outputs": [],
   "source": [
    "import numpy as np\n",
    "import matplotlib.pyplot as plt\n",
    "from utils import *\n",
    "\n",
    "%matplotlib inline"
   ]
  },
  {
   "cell_type": "code",
   "execution_count": null,
   "id": "024375b4-1ac9-4ddd-bebe-6c7a580588fa",
   "metadata": {},
   "outputs": [],
   "source": []
  }
 ],
 "metadata": {
  "kernelspec": {
   "display_name": "Python 3 (ipykernel)",
   "language": "python",
   "name": "python3"
  },
  "language_info": {
   "codemirror_mode": {
    "name": "ipython",
    "version": 3
   },
   "file_extension": ".py",
   "mimetype": "text/x-python",
   "name": "python",
   "nbconvert_exporter": "python",
   "pygments_lexer": "ipython3",
   "version": "3.11.4"
  }
 },
 "nbformat": 4,
 "nbformat_minor": 5
}
